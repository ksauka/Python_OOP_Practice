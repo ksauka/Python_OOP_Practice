{
 "cells": [
  {
   "cell_type": "markdown",
   "metadata": {},
   "source": [
    "## Python object oriented programing  and Github practice "
   ]
  },
  {
   "cell_type": "markdown",
   "metadata": {},
   "source": [
    "####  Creating a class\n",
    "* class = Dog\n",
    "#### Adding attributes to a class\n",
    "* name\n",
    "* age\n",
    "* coat color\n",
    "* breed\n",
    "#### Defining methods for the class\n",
    "* bark\n",
    "* Eat\n",
    "* doginfor"
   ]
  },
  {
   "cell_type": "code",
   "execution_count": 35,
   "metadata": {},
   "outputs": [],
   "source": [
    "#putting everything together\n",
    "class Dog:\n",
    "    def __init__(self, name, age, coat_color, breed):\n",
    "        self.name = name\n",
    "        self.age = age\n",
    "        self.coat_color = coat_color\n",
    "        self.breed = breed\n",
    "\n",
    "    def bark(self):\n",
    "        print(\"whooooh whoooooh\")\n",
    "\n",
    "    def eat(self):\n",
    "        print(\"cooked or raw meat , fish , vegetables and rice \")\n",
    "\n",
    "    def doginfor(self):\n",
    "        identity_string = \"The dog name is {}, it is {} years old, its coat color is {} and it is from the {} breed\".format(self.name, self.age, self.coat_color, self.breed)\n",
    "        return identity_string"
   ]
  },
  {
   "cell_type": "code",
   "execution_count": 36,
   "metadata": {},
   "outputs": [],
   "source": [
    "buju = Dog(\"BUJU\", 3, \"brown\", \"bull dog\") # creating dog object : Buju"
   ]
  },
  {
   "cell_type": "code",
   "execution_count": 37,
   "metadata": {},
   "outputs": [
    {
     "data": {
      "text/plain": [
       "'brown'"
      ]
     },
     "execution_count": 37,
     "metadata": {},
     "output_type": "execute_result"
    }
   ],
   "source": [
    "buju.coat_color # calling dog attribute coat_color using (Oject.atribute) formart"
   ]
  },
  {
   "cell_type": "code",
   "execution_count": 38,
   "metadata": {},
   "outputs": [
    {
     "name": "stdout",
     "output_type": "stream",
     "text": [
      "cooked or raw meat , fish , vegetables and rice \n"
     ]
    }
   ],
   "source": [
    "buju.eat() # calling eat method , using object.method() formart"
   ]
  },
  {
   "cell_type": "code",
   "execution_count": 39,
   "metadata": {},
   "outputs": [
    {
     "data": {
      "text/plain": [
       "'The dog name is BUJU, it is 3 years old, its coat color is brown and it is from the bull dog breed'"
      ]
     },
     "execution_count": 39,
     "metadata": {},
     "output_type": "execute_result"
    }
   ],
   "source": [
    "buju.doginfor() # calling doginfo method, using object.method() formart"
   ]
  }
 ],
 "metadata": {
  "kernelspec": {
   "display_name": "Python 3.9.13 64-bit (microsoft store)",
   "language": "python",
   "name": "python3"
  },
  "language_info": {
   "codemirror_mode": {
    "name": "ipython",
    "version": 3
   },
   "file_extension": ".py",
   "mimetype": "text/x-python",
   "name": "python",
   "nbconvert_exporter": "python",
   "pygments_lexer": "ipython3",
   "version": "3.9.13"
  },
  "orig_nbformat": 4,
  "vscode": {
   "interpreter": {
    "hash": "a54faeb18946e54f7312b320e2ff278d7b0321c2aa92c062a9a3fb13edabbb3c"
   }
  }
 },
 "nbformat": 4,
 "nbformat_minor": 2
}
